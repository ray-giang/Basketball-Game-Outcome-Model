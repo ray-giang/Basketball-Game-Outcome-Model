{
 "cells": [
  {
   "cell_type": "code",
   "execution_count": 1,
   "metadata": {},
   "outputs": [],
   "source": [
    "import pandas as pd\n",
    "import string\n",
    "import re\n",
    "import numpy as np\n",
    "import datetime as dt\n",
    "from datetime import datetime\n",
    "from sklearn.ensemble import RandomForestClassifier, GradientBoostingClassifier\n",
    "from sklearn.model_selection import train_test_split, GridSearchCV, RandomizedSearchCV, cross_val_score\n",
    "from sklearn.metrics import classification_report, confusion_matrix, roc_auc_score, roc_curve, accuracy_score, precision_score, recall_score, precision_recall_curve\n",
    "import seaborn as sns\n",
    "from matplotlib import pyplot as plt\n",
    "from sklearn.pipeline import Pipeline\n",
    "from sklearn.impute import SimpleImputer\n",
    "from sklearn.preprocessing import StandardScaler, OneHotEncoder\n",
    "import time\n",
    "from sklearn.compose import ColumnTransformer"
   ]
  },
  {
   "cell_type": "code",
   "execution_count": 2,
   "metadata": {},
   "outputs": [
    {
     "data": {
      "text/html": [
       "<div>\n",
       "<style scoped>\n",
       "    .dataframe tbody tr th:only-of-type {\n",
       "        vertical-align: middle;\n",
       "    }\n",
       "\n",
       "    .dataframe tbody tr th {\n",
       "        vertical-align: top;\n",
       "    }\n",
       "\n",
       "    .dataframe thead th {\n",
       "        text-align: right;\n",
       "    }\n",
       "</style>\n",
       "<table border=\"1\" class=\"dataframe\">\n",
       "  <thead>\n",
       "    <tr style=\"text-align: right;\">\n",
       "      <th></th>\n",
       "      <th>team1_id</th>\n",
       "      <th>team1_x</th>\n",
       "      <th>season_x</th>\n",
       "      <th>team2</th>\n",
       "      <th>team2_id</th>\n",
       "      <th>game_number_team1_x</th>\n",
       "      <th>game_number_team2</th>\n",
       "      <th>win_flag_team1</th>\n",
       "      <th>season_game_team1_id</th>\n",
       "      <th>season_game_team2_id</th>\n",
       "      <th>...</th>\n",
       "      <th>ft%_team2_opp</th>\n",
       "      <th>game_id_team2</th>\n",
       "      <th>win%_team2</th>\n",
       "      <th>homeaway_win%_team2</th>\n",
       "      <th>b2bbreak_win%_team2</th>\n",
       "      <th>travel_win%_team2</th>\n",
       "      <th>win%_team2_opp</th>\n",
       "      <th>homeaway_win%_team2_opp</th>\n",
       "      <th>b2bbreak_win%_team2_opp</th>\n",
       "      <th>travel_win%_team2_opp</th>\n",
       "    </tr>\n",
       "  </thead>\n",
       "  <tbody>\n",
       "    <tr>\n",
       "      <th>0</th>\n",
       "      <td>1</td>\n",
       "      <td>ATLANTA HAWKS</td>\n",
       "      <td>1999</td>\n",
       "      <td>NEW JERSEY NETS</td>\n",
       "      <td>20</td>\n",
       "      <td>3</td>\n",
       "      <td>2</td>\n",
       "      <td>0</td>\n",
       "      <td>ATLANTA HAWKS-1999-3</td>\n",
       "      <td>NEW JERSEY NETS-1999-2</td>\n",
       "      <td>...</td>\n",
       "      <td>0.800000</td>\n",
       "      <td>NEW JERSEY NETS-1999-2</td>\n",
       "      <td>0.00</td>\n",
       "      <td>0.000000</td>\n",
       "      <td>0.000000</td>\n",
       "      <td>0.0</td>\n",
       "      <td>1.000000</td>\n",
       "      <td>0.000000</td>\n",
       "      <td>1.00</td>\n",
       "      <td>0.000000</td>\n",
       "    </tr>\n",
       "    <tr>\n",
       "      <th>1</th>\n",
       "      <td>1</td>\n",
       "      <td>ATLANTA HAWKS</td>\n",
       "      <td>1999</td>\n",
       "      <td>CHICAGO BULLS</td>\n",
       "      <td>6</td>\n",
       "      <td>4</td>\n",
       "      <td>3</td>\n",
       "      <td>1</td>\n",
       "      <td>ATLANTA HAWKS-1999-4</td>\n",
       "      <td>CHICAGO BULLS-1999-3</td>\n",
       "      <td>...</td>\n",
       "      <td>0.812857</td>\n",
       "      <td>CHICAGO BULLS-1999-3</td>\n",
       "      <td>0.50</td>\n",
       "      <td>0.000000</td>\n",
       "      <td>0.500000</td>\n",
       "      <td>0.5</td>\n",
       "      <td>0.666667</td>\n",
       "      <td>0.000000</td>\n",
       "      <td>1.00</td>\n",
       "      <td>0.000000</td>\n",
       "    </tr>\n",
       "    <tr>\n",
       "      <th>2</th>\n",
       "      <td>1</td>\n",
       "      <td>ATLANTA HAWKS</td>\n",
       "      <td>1999</td>\n",
       "      <td>CHARLOTTE HORNETS</td>\n",
       "      <td>5</td>\n",
       "      <td>5</td>\n",
       "      <td>5</td>\n",
       "      <td>1</td>\n",
       "      <td>ATLANTA HAWKS-1999-5</td>\n",
       "      <td>CHARLOTTE HORNETS-1999-5</td>\n",
       "      <td>...</td>\n",
       "      <td>0.725852</td>\n",
       "      <td>CHARLOTTE HORNETS-1999-5</td>\n",
       "      <td>0.25</td>\n",
       "      <td>0.000000</td>\n",
       "      <td>0.000000</td>\n",
       "      <td>0.0</td>\n",
       "      <td>0.750000</td>\n",
       "      <td>1.000000</td>\n",
       "      <td>1.00</td>\n",
       "      <td>0.500000</td>\n",
       "    </tr>\n",
       "    <tr>\n",
       "      <th>3</th>\n",
       "      <td>1</td>\n",
       "      <td>ATLANTA HAWKS</td>\n",
       "      <td>1999</td>\n",
       "      <td>PHILADELPHIA 76ERS</td>\n",
       "      <td>26</td>\n",
       "      <td>6</td>\n",
       "      <td>5</td>\n",
       "      <td>0</td>\n",
       "      <td>ATLANTA HAWKS-1999-6</td>\n",
       "      <td>PHILADELPHIA 76ERS-1999-5</td>\n",
       "      <td>...</td>\n",
       "      <td>0.593750</td>\n",
       "      <td>PHILADELPHIA 76ERS-1999-5</td>\n",
       "      <td>0.75</td>\n",
       "      <td>0.666667</td>\n",
       "      <td>0.666667</td>\n",
       "      <td>0.5</td>\n",
       "      <td>0.800000</td>\n",
       "      <td>0.500000</td>\n",
       "      <td>1.00</td>\n",
       "      <td>0.666667</td>\n",
       "    </tr>\n",
       "    <tr>\n",
       "      <th>4</th>\n",
       "      <td>1</td>\n",
       "      <td>ATLANTA HAWKS</td>\n",
       "      <td>1999</td>\n",
       "      <td>CHICAGO BULLS</td>\n",
       "      <td>6</td>\n",
       "      <td>7</td>\n",
       "      <td>6</td>\n",
       "      <td>1</td>\n",
       "      <td>ATLANTA HAWKS-1999-7</td>\n",
       "      <td>CHICAGO BULLS-1999-6</td>\n",
       "      <td>...</td>\n",
       "      <td>0.709501</td>\n",
       "      <td>CHICAGO BULLS-1999-6</td>\n",
       "      <td>0.20</td>\n",
       "      <td>0.000000</td>\n",
       "      <td>0.200000</td>\n",
       "      <td>0.0</td>\n",
       "      <td>0.666667</td>\n",
       "      <td>0.333333</td>\n",
       "      <td>0.75</td>\n",
       "      <td>0.500000</td>\n",
       "    </tr>\n",
       "  </tbody>\n",
       "</table>\n",
       "<p>5 rows × 80 columns</p>\n",
       "</div>"
      ],
      "text/plain": [
       "   team1_id        team1_x  season_x               team2  team2_id  \\\n",
       "0         1  ATLANTA HAWKS      1999     NEW JERSEY NETS        20   \n",
       "1         1  ATLANTA HAWKS      1999       CHICAGO BULLS         6   \n",
       "2         1  ATLANTA HAWKS      1999   CHARLOTTE HORNETS         5   \n",
       "3         1  ATLANTA HAWKS      1999  PHILADELPHIA 76ERS        26   \n",
       "4         1  ATLANTA HAWKS      1999       CHICAGO BULLS         6   \n",
       "\n",
       "   game_number_team1_x  game_number_team2  win_flag_team1  \\\n",
       "0                    3                  2               0   \n",
       "1                    4                  3               1   \n",
       "2                    5                  5               1   \n",
       "3                    6                  5               0   \n",
       "4                    7                  6               1   \n",
       "\n",
       "   season_game_team1_id       season_game_team2_id  ... ft%_team2_opp  \\\n",
       "0  ATLANTA HAWKS-1999-3     NEW JERSEY NETS-1999-2  ...      0.800000   \n",
       "1  ATLANTA HAWKS-1999-4       CHICAGO BULLS-1999-3  ...      0.812857   \n",
       "2  ATLANTA HAWKS-1999-5   CHARLOTTE HORNETS-1999-5  ...      0.725852   \n",
       "3  ATLANTA HAWKS-1999-6  PHILADELPHIA 76ERS-1999-5  ...      0.593750   \n",
       "4  ATLANTA HAWKS-1999-7       CHICAGO BULLS-1999-6  ...      0.709501   \n",
       "\n",
       "               game_id_team2  win%_team2  homeaway_win%_team2  \\\n",
       "0     NEW JERSEY NETS-1999-2        0.00             0.000000   \n",
       "1       CHICAGO BULLS-1999-3        0.50             0.000000   \n",
       "2   CHARLOTTE HORNETS-1999-5        0.25             0.000000   \n",
       "3  PHILADELPHIA 76ERS-1999-5        0.75             0.666667   \n",
       "4       CHICAGO BULLS-1999-6        0.20             0.000000   \n",
       "\n",
       "   b2bbreak_win%_team2  travel_win%_team2  win%_team2_opp  \\\n",
       "0             0.000000                0.0        1.000000   \n",
       "1             0.500000                0.5        0.666667   \n",
       "2             0.000000                0.0        0.750000   \n",
       "3             0.666667                0.5        0.800000   \n",
       "4             0.200000                0.0        0.666667   \n",
       "\n",
       "   homeaway_win%_team2_opp  b2bbreak_win%_team2_opp  travel_win%_team2_opp  \n",
       "0                 0.000000                     1.00               0.000000  \n",
       "1                 0.000000                     1.00               0.000000  \n",
       "2                 1.000000                     1.00               0.500000  \n",
       "3                 0.500000                     1.00               0.666667  \n",
       "4                 0.333333                     0.75               0.500000  \n",
       "\n",
       "[5 rows x 80 columns]"
      ]
     },
     "execution_count": 2,
     "metadata": {},
     "output_type": "execute_result"
    }
   ],
   "source": [
    "# Read Dataset\n",
    "all_season_results_df = pd.read_csv('final_game_results.csv')\n",
    "all_season_results_df.head()"
   ]
  },
  {
   "cell_type": "code",
   "execution_count": 3,
   "metadata": {},
   "outputs": [],
   "source": [
    "# Keep important features\n",
    "all_season_results_df_final = all_season_results_df[['game_number_team2', 'win_flag_team1',\n",
    "       'ortg_team1', 'ast%_team1', 'ts%_team1', 'efg%_team1', 'poss_team1',\n",
    "       'dreb%_team1', 'oreb%_team1', 'stl%_team1', 'blk%_team1', 'tov%_team1',\n",
    "       'ft%_team1', 'win%_roll8_team1', 'ortg_team1_opp', 'ast%_team1_opp',\n",
    "       'ts%_team1_opp', 'efg%_team1_opp', 'poss_team1_opp', 'dreb%_team1_opp',\n",
    "       'oreb%_team1_opp', 'stl%_team1_opp', 'blk%_team1_opp', 'tov%_team1_opp',\n",
    "       'ft%_team1_opp', 'win%_team1', 'homeaway_win%_team1',\n",
    "       'b2bbreak_win%_team1', 'travel_win%_team1', 'win%_team1_opp',\n",
    "       'homeaway_win%_team1_opp', 'b2bbreak_win%_team1_opp',\n",
    "       'travel_win%_team1_opp', 'season', 'game_number_team1',\n",
    "       'ortg_team2', 'ast%_team2', 'ts%_team2', 'efg%_team2', 'poss_team2',\n",
    "       'dreb%_team2', 'oreb%_team2', 'stl%_team2', 'blk%_team2', 'tov%_team2',\n",
    "       'ft%_team2', 'win%_roll8_team2', 'ortg_team2_opp', 'ast%_team2_opp',\n",
    "       'ts%_team2_opp', 'efg%_team2_opp', 'poss_team2_opp', 'dreb%_team2_opp',\n",
    "       'oreb%_team2_opp', 'stl%_team2_opp', 'blk%_team2_opp', 'tov%_team2_opp',\n",
    "       'ft%_team2_opp', 'win%_team2', 'homeaway_win%_team2',\n",
    "       'b2bbreak_win%_team2', 'travel_win%_team2', 'win%_team2_opp',\n",
    "       'homeaway_win%_team2_opp', 'b2bbreak_win%_team2_opp',\n",
    "       'travel_win%_team2_opp']]\n",
    "\n",
    "# Separate dataset into features and outcome\n",
    "X = all_season_results_df_final.drop(['win_flag_team1'], axis=1)\n",
    "Y = all_season_results_df_final.win_flag_team1"
   ]
  },
  {
   "cell_type": "code",
   "execution_count": 4,
   "metadata": {},
   "outputs": [],
   "source": [
    "# Split data into train and test sets\n",
    "\n",
    "X_train, X_test, Y_train, Y_test = train_test_split(X, Y, test_size = 0.20, random_state=0)"
   ]
  },
  {
   "cell_type": "code",
   "execution_count": 5,
   "metadata": {},
   "outputs": [
    {
     "name": "stdout",
     "output_type": "stream",
     "text": [
      "Fitting 5 folds for each of 10 candidates, totalling 50 fits\n",
      "[CV] n_estimators=90, max_depth=5, loss=deviance, learning_rate=0.01 .\n"
     ]
    },
    {
     "name": "stderr",
     "output_type": "stream",
     "text": [
      "[Parallel(n_jobs=1)]: Using backend SequentialBackend with 1 concurrent workers.\n"
     ]
    },
    {
     "name": "stdout",
     "output_type": "stream",
     "text": [
      "[CV]  n_estimators=90, max_depth=5, loss=deviance, learning_rate=0.01, total=  10.8s\n",
      "[CV] n_estimators=90, max_depth=5, loss=deviance, learning_rate=0.01 .\n"
     ]
    },
    {
     "name": "stderr",
     "output_type": "stream",
     "text": [
      "[Parallel(n_jobs=1)]: Done   1 out of   1 | elapsed:   10.9s remaining:    0.0s\n"
     ]
    },
    {
     "name": "stdout",
     "output_type": "stream",
     "text": [
      "[CV]  n_estimators=90, max_depth=5, loss=deviance, learning_rate=0.01, total=  10.7s\n",
      "[CV] n_estimators=90, max_depth=5, loss=deviance, learning_rate=0.01 .\n",
      "[CV]  n_estimators=90, max_depth=5, loss=deviance, learning_rate=0.01, total=  10.7s\n",
      "[CV] n_estimators=90, max_depth=5, loss=deviance, learning_rate=0.01 .\n",
      "[CV]  n_estimators=90, max_depth=5, loss=deviance, learning_rate=0.01, total=  10.7s\n",
      "[CV] n_estimators=90, max_depth=5, loss=deviance, learning_rate=0.01 .\n",
      "[CV]  n_estimators=90, max_depth=5, loss=deviance, learning_rate=0.01, total=  10.7s\n",
      "[CV] n_estimators=90, max_depth=5, loss=deviance, learning_rate=1 ....\n",
      "[CV]  n_estimators=90, max_depth=5, loss=deviance, learning_rate=1, total=  10.9s\n",
      "[CV] n_estimators=90, max_depth=5, loss=deviance, learning_rate=1 ....\n",
      "[CV]  n_estimators=90, max_depth=5, loss=deviance, learning_rate=1, total=  10.9s\n",
      "[CV] n_estimators=90, max_depth=5, loss=deviance, learning_rate=1 ....\n",
      "[CV]  n_estimators=90, max_depth=5, loss=deviance, learning_rate=1, total=  10.8s\n",
      "[CV] n_estimators=90, max_depth=5, loss=deviance, learning_rate=1 ....\n",
      "[CV]  n_estimators=90, max_depth=5, loss=deviance, learning_rate=1, total=  10.8s\n",
      "[CV] n_estimators=90, max_depth=5, loss=deviance, learning_rate=1 ....\n",
      "[CV]  n_estimators=90, max_depth=5, loss=deviance, learning_rate=1, total=  10.9s\n",
      "[CV] n_estimators=50, max_depth=15, loss=exponential, learning_rate=0.01 \n",
      "[CV]  n_estimators=50, max_depth=15, loss=exponential, learning_rate=0.01, total=  32.4s\n",
      "[CV] n_estimators=50, max_depth=15, loss=exponential, learning_rate=0.01 \n",
      "[CV]  n_estimators=50, max_depth=15, loss=exponential, learning_rate=0.01, total=  32.2s\n",
      "[CV] n_estimators=50, max_depth=15, loss=exponential, learning_rate=0.01 \n",
      "[CV]  n_estimators=50, max_depth=15, loss=exponential, learning_rate=0.01, total=  32.2s\n",
      "[CV] n_estimators=50, max_depth=15, loss=exponential, learning_rate=0.01 \n",
      "[CV]  n_estimators=50, max_depth=15, loss=exponential, learning_rate=0.01, total=  32.8s\n",
      "[CV] n_estimators=50, max_depth=15, loss=exponential, learning_rate=0.01 \n",
      "[CV]  n_estimators=50, max_depth=15, loss=exponential, learning_rate=0.01, total=  32.9s\n",
      "[CV] n_estimators=50, max_depth=15, loss=deviance, learning_rate=0.1 .\n",
      "[CV]  n_estimators=50, max_depth=15, loss=deviance, learning_rate=0.1, total=  29.4s\n",
      "[CV] n_estimators=50, max_depth=15, loss=deviance, learning_rate=0.1 .\n",
      "[CV]  n_estimators=50, max_depth=15, loss=deviance, learning_rate=0.1, total=  29.7s\n",
      "[CV] n_estimators=50, max_depth=15, loss=deviance, learning_rate=0.1 .\n",
      "[CV]  n_estimators=50, max_depth=15, loss=deviance, learning_rate=0.1, total=  29.4s\n",
      "[CV] n_estimators=50, max_depth=15, loss=deviance, learning_rate=0.1 .\n",
      "[CV]  n_estimators=50, max_depth=15, loss=deviance, learning_rate=0.1, total=  29.2s\n",
      "[CV] n_estimators=50, max_depth=15, loss=deviance, learning_rate=0.1 .\n",
      "[CV]  n_estimators=50, max_depth=15, loss=deviance, learning_rate=0.1, total=  28.9s\n",
      "[CV] n_estimators=70, max_depth=15, loss=deviance, learning_rate=1 ...\n",
      "[CV]  n_estimators=70, max_depth=15, loss=deviance, learning_rate=1, total=  15.2s\n",
      "[CV] n_estimators=70, max_depth=15, loss=deviance, learning_rate=1 ...\n",
      "[CV]  n_estimators=70, max_depth=15, loss=deviance, learning_rate=1, total=  15.6s\n",
      "[CV] n_estimators=70, max_depth=15, loss=deviance, learning_rate=1 ...\n",
      "[CV]  n_estimators=70, max_depth=15, loss=deviance, learning_rate=1, total=  15.3s\n",
      "[CV] n_estimators=70, max_depth=15, loss=deviance, learning_rate=1 ...\n",
      "[CV]  n_estimators=70, max_depth=15, loss=deviance, learning_rate=1, total=  15.2s\n",
      "[CV] n_estimators=70, max_depth=15, loss=deviance, learning_rate=1 ...\n",
      "[CV]  n_estimators=70, max_depth=15, loss=deviance, learning_rate=1, total=  15.1s\n",
      "[CV] n_estimators=70, max_depth=15, loss=exponential, learning_rate=1 \n",
      "[CV]  n_estimators=70, max_depth=15, loss=exponential, learning_rate=1, total=  18.2s\n",
      "[CV] n_estimators=70, max_depth=15, loss=exponential, learning_rate=1 \n",
      "[CV]  n_estimators=70, max_depth=15, loss=exponential, learning_rate=1, total=  19.0s\n",
      "[CV] n_estimators=70, max_depth=15, loss=exponential, learning_rate=1 \n",
      "[CV]  n_estimators=70, max_depth=15, loss=exponential, learning_rate=1, total=  18.9s\n",
      "[CV] n_estimators=70, max_depth=15, loss=exponential, learning_rate=1 \n",
      "[CV]  n_estimators=70, max_depth=15, loss=exponential, learning_rate=1, total=  18.8s\n",
      "[CV] n_estimators=70, max_depth=15, loss=exponential, learning_rate=1 \n",
      "[CV]  n_estimators=70, max_depth=15, loss=exponential, learning_rate=1, total=  18.6s\n",
      "[CV] n_estimators=70, max_depth=5, loss=deviance, learning_rate=0.1 ..\n",
      "[CV]  n_estimators=70, max_depth=5, loss=deviance, learning_rate=0.1, total=   8.4s\n",
      "[CV] n_estimators=70, max_depth=5, loss=deviance, learning_rate=0.1 ..\n",
      "[CV]  n_estimators=70, max_depth=5, loss=deviance, learning_rate=0.1, total=   8.5s\n",
      "[CV] n_estimators=70, max_depth=5, loss=deviance, learning_rate=0.1 ..\n",
      "[CV]  n_estimators=70, max_depth=5, loss=deviance, learning_rate=0.1, total=   8.4s\n",
      "[CV] n_estimators=70, max_depth=5, loss=deviance, learning_rate=0.1 ..\n",
      "[CV]  n_estimators=70, max_depth=5, loss=deviance, learning_rate=0.1, total=   8.4s\n",
      "[CV] n_estimators=70, max_depth=5, loss=deviance, learning_rate=0.1 ..\n",
      "[CV]  n_estimators=70, max_depth=5, loss=deviance, learning_rate=0.1, total=   8.4s\n",
      "[CV] n_estimators=50, max_depth=15, loss=deviance, learning_rate=0.01 \n",
      "[CV]  n_estimators=50, max_depth=15, loss=deviance, learning_rate=0.01, total=  30.9s\n",
      "[CV] n_estimators=50, max_depth=15, loss=deviance, learning_rate=0.01 \n",
      "[CV]  n_estimators=50, max_depth=15, loss=deviance, learning_rate=0.01, total=  31.0s\n",
      "[CV] n_estimators=50, max_depth=15, loss=deviance, learning_rate=0.01 \n",
      "[CV]  n_estimators=50, max_depth=15, loss=deviance, learning_rate=0.01, total=  30.8s\n",
      "[CV] n_estimators=50, max_depth=15, loss=deviance, learning_rate=0.01 \n",
      "[CV]  n_estimators=50, max_depth=15, loss=deviance, learning_rate=0.01, total=  30.7s\n",
      "[CV] n_estimators=50, max_depth=15, loss=deviance, learning_rate=0.01 \n",
      "[CV]  n_estimators=50, max_depth=15, loss=deviance, learning_rate=0.01, total=  31.3s\n",
      "[CV] n_estimators=90, max_depth=5, loss=exponential, learning_rate=0.01 \n",
      "[CV]  n_estimators=90, max_depth=5, loss=exponential, learning_rate=0.01, total=  10.8s\n",
      "[CV] n_estimators=90, max_depth=5, loss=exponential, learning_rate=0.01 \n",
      "[CV]  n_estimators=90, max_depth=5, loss=exponential, learning_rate=0.01, total=  10.8s\n",
      "[CV] n_estimators=90, max_depth=5, loss=exponential, learning_rate=0.01 \n",
      "[CV]  n_estimators=90, max_depth=5, loss=exponential, learning_rate=0.01, total=  10.9s\n",
      "[CV] n_estimators=90, max_depth=5, loss=exponential, learning_rate=0.01 \n",
      "[CV]  n_estimators=90, max_depth=5, loss=exponential, learning_rate=0.01, total=  10.8s\n",
      "[CV] n_estimators=90, max_depth=5, loss=exponential, learning_rate=0.01 \n",
      "[CV]  n_estimators=90, max_depth=5, loss=exponential, learning_rate=0.01, total=  10.7s\n",
      "[CV] n_estimators=90, max_depth=10, loss=exponential, learning_rate=0.1 \n",
      "[CV]  n_estimators=90, max_depth=10, loss=exponential, learning_rate=0.1, total=  23.3s\n",
      "[CV] n_estimators=90, max_depth=10, loss=exponential, learning_rate=0.1 \n",
      "[CV]  n_estimators=90, max_depth=10, loss=exponential, learning_rate=0.1, total=  23.0s\n",
      "[CV] n_estimators=90, max_depth=10, loss=exponential, learning_rate=0.1 \n",
      "[CV]  n_estimators=90, max_depth=10, loss=exponential, learning_rate=0.1, total=  23.4s\n",
      "[CV] n_estimators=90, max_depth=10, loss=exponential, learning_rate=0.1 \n",
      "[CV]  n_estimators=90, max_depth=10, loss=exponential, learning_rate=0.1, total=  23.3s\n",
      "[CV] n_estimators=90, max_depth=10, loss=exponential, learning_rate=0.1 \n",
      "[CV]  n_estimators=90, max_depth=10, loss=exponential, learning_rate=0.1, total=  23.5s\n"
     ]
    },
    {
     "name": "stderr",
     "output_type": "stream",
     "text": [
      "[Parallel(n_jobs=1)]: Done  50 out of  50 | elapsed: 16.1min finished\n",
      "/opt/conda/envs/springboard/lib/python3.7/site-packages/sklearn/model_selection/_search.py:823: FutureWarning: The parameter 'iid' is deprecated in 0.22 and will be removed in 0.24.\n",
      "  \"removed in 0.24.\", FutureWarning\n"
     ]
    },
    {
     "data": {
      "text/plain": [
       "RandomizedSearchCV(cv=5, error_score=nan,\n",
       "                   estimator=GradientBoostingClassifier(ccp_alpha=0.0,\n",
       "                                                        criterion='friedman_mse',\n",
       "                                                        init=None,\n",
       "                                                        learning_rate=0.1,\n",
       "                                                        loss='deviance',\n",
       "                                                        max_depth=3,\n",
       "                                                        max_features='sqrt',\n",
       "                                                        max_leaf_nodes=None,\n",
       "                                                        min_impurity_decrease=0.0,\n",
       "                                                        min_impurity_split=None,\n",
       "                                                        min_samples_leaf=1,\n",
       "                                                        min_samples_split=2,\n",
       "                                                        min_weight_fraction_leaf=0.0,\n",
       "                                                        n_estimators=100,\n",
       "                                                        n_i...\n",
       "                                                        random_state=0,\n",
       "                                                        subsample=1.0,\n",
       "                                                        tol=0.0001,\n",
       "                                                        validation_fraction=0.1,\n",
       "                                                        verbose=0,\n",
       "                                                        warm_start=False),\n",
       "                   iid=False, n_iter=10, n_jobs=None,\n",
       "                   param_distributions={'learning_rate': [0.01, 0.1, 1],\n",
       "                                        'loss': ['deviance', 'exponential'],\n",
       "                                        'max_depth': [5, 10, 15],\n",
       "                                        'n_estimators': [50, 70, 90]},\n",
       "                   pre_dispatch='2*n_jobs', random_state=None, refit=True,\n",
       "                   return_train_score=True, scoring='precision', verbose=2)"
      ]
     },
     "execution_count": 5,
     "metadata": {},
     "output_type": "execute_result"
    }
   ],
   "source": [
    "# Hyperparameter tuning using RandomizedSearchCV\n",
    "# Gradient Boosting Classifier  \n",
    "\n",
    "param_grid_gb = {\n",
    "                'loss': ['deviance', 'exponential'],\n",
    "                'learning_rate': [0.01, 0.1, 1],\n",
    "                'n_estimators': [50,70,90],\n",
    "                'max_depth': [5, 10, 15]\n",
    "                 }\n",
    "classifier_gb = GradientBoostingClassifier(random_state = 0,max_features = 'sqrt')\n",
    "grid_search = RandomizedSearchCV(classifier_gb, param_grid_gb,\n",
    "                           return_train_score=True,\n",
    "                           scoring = 'precision',\n",
    "                           cv=5,\n",
    "                           verbose = 2,\n",
    "                           iid=False\n",
    "                          )\n",
    "\n",
    "grid_search.fit(X_train, Y_train)"
   ]
  },
  {
   "cell_type": "code",
   "execution_count": 6,
   "metadata": {},
   "outputs": [
    {
     "data": {
      "text/plain": [
       "{'n_estimators': 70, 'max_depth': 5, 'loss': 'deviance', 'learning_rate': 0.1}"
      ]
     },
     "execution_count": 6,
     "metadata": {},
     "output_type": "execute_result"
    }
   ],
   "source": [
    "# Identify best parameters\n",
    "grid_search.best_params_"
   ]
  },
  {
   "cell_type": "code",
   "execution_count": 7,
   "metadata": {},
   "outputs": [
    {
     "name": "stdout",
     "output_type": "stream",
     "text": [
      "0.6573947760171417 {'n_estimators': 90, 'max_depth': 5, 'loss': 'deviance', 'learning_rate': 0.01}\n",
      "0.6105237669642298 {'n_estimators': 90, 'max_depth': 5, 'loss': 'deviance', 'learning_rate': 1}\n",
      "0.653224057545683 {'n_estimators': 50, 'max_depth': 15, 'loss': 'exponential', 'learning_rate': 0.01}\n",
      "0.6489730822479632 {'n_estimators': 50, 'max_depth': 15, 'loss': 'deviance', 'learning_rate': 0.1}\n",
      "0.6163428812400411 {'n_estimators': 70, 'max_depth': 15, 'loss': 'deviance', 'learning_rate': 1}\n",
      "0.6234161944554727 {'n_estimators': 70, 'max_depth': 15, 'loss': 'exponential', 'learning_rate': 1}\n",
      "0.660664353982813 {'n_estimators': 70, 'max_depth': 5, 'loss': 'deviance', 'learning_rate': 0.1}\n",
      "0.6525647698221005 {'n_estimators': 50, 'max_depth': 15, 'loss': 'deviance', 'learning_rate': 0.01}\n",
      "0.6574467336897336 {'n_estimators': 90, 'max_depth': 5, 'loss': 'exponential', 'learning_rate': 0.01}\n",
      "0.6507479082586254 {'n_estimators': 90, 'max_depth': 10, 'loss': 'exponential', 'learning_rate': 0.1}\n"
     ]
    }
   ],
   "source": [
    "# Print precision with assciated parameters\n",
    "cv_scores = grid_search.cv_results_\n",
    "##printing all the parameters along with their scores\n",
    "for mean_score, params in zip(cv_scores['mean_test_score'], cv_scores[\"params\"]):\n",
    "    print(mean_score, params)"
   ]
  },
  {
   "cell_type": "code",
   "execution_count": 8,
   "metadata": {},
   "outputs": [
    {
     "data": {
      "text/plain": [
       "array([0.00669204, 0.01851258, 0.00337035, 0.00535378, 0.00693865,\n",
       "       0.00417578, 0.00366961, 0.00321103, 0.00731199, 0.00651259,\n",
       "       0.00374518, 0.00473554, 0.01159319, 0.0090695 , 0.00612309,\n",
       "       0.00418019, 0.00599339, 0.00487555, 0.00372996, 0.00426088,\n",
       "       0.00269515, 0.0070244 , 0.00475914, 0.00381005, 0.05392467,\n",
       "       0.12022219, 0.02391436, 0.02350829, 0.0424714 , 0.10556863,\n",
       "       0.01067752, 0.02679545, 0.00101116, 0.00898429, 0.0183787 ,\n",
       "       0.00438281, 0.00796966, 0.007369  , 0.00413296, 0.0053604 ,\n",
       "       0.00241752, 0.00572435, 0.00353968, 0.00363747, 0.00347527,\n",
       "       0.01824777, 0.01187122, 0.00696986, 0.00256786, 0.00299481,\n",
       "       0.00388158, 0.00272358, 0.00496077, 0.00376982, 0.00823929,\n",
       "       0.00526344, 0.00357322, 0.02629309, 0.06951878, 0.04786242,\n",
       "       0.02250787, 0.05479702, 0.06229974, 0.0058717 , 0.00997677])"
      ]
     },
     "execution_count": 8,
     "metadata": {},
     "output_type": "execute_result"
    }
   ],
   "source": [
    "# feature importances \n",
    "feature_importances = grid_search.best_estimator_.feature_importances_\n",
    "feature_importances"
   ]
  },
  {
   "cell_type": "code",
   "execution_count": 9,
   "metadata": {},
   "outputs": [
    {
     "name": "stdout",
     "output_type": "stream",
     "text": [
      "              precision    recall  f1-score   support\n",
      "\n",
      "           0       0.67      0.65      0.66      5087\n",
      "           1       0.66      0.68      0.67      5054\n",
      "\n",
      "    accuracy                           0.66     10141\n",
      "   macro avg       0.66      0.66      0.66     10141\n",
      "weighted avg       0.66      0.66      0.66     10141\n",
      "\n"
     ]
    },
    {
     "data": {
      "image/png": "[encoded data removed]",
      "text/plain": [
       "<Figure size 432x288 with 1 Axes>"
      ]
     },
     "metadata": {
      "needs_background": "light"
     },
     "output_type": "display_data"
    }
   ],
   "source": [
    "# Display confusion matrix results\n",
    "metrics = pd.DataFrame(index=['accuracy', 'precision', 'recall', 'AUC', 'Time to Train'], \n",
    "                       columns=['XG Boost'])\n",
    "final_model = grid_search.best_estimator_\n",
    "y_pred = final_model.predict(X_test)\n",
    "metrics.loc['accuracy', 'XGBoost'] = accuracy_score(y_pred=y_pred, y_true=Y_test)\n",
    "metrics.loc['precision', 'XGBoost'] = precision_score(y_pred=y_pred, y_true=Y_test)\n",
    "metrics.loc['recall', 'XGBoost'] = recall_score(y_pred=y_pred, y_true=Y_test)\n",
    "y_pred_prob = final_model.predict_proba(X_test)[:,1]\n",
    "metrics.loc['AUC', 'XGBoost'] = roc_auc_score(Y_test, y_pred_prob)\n",
    "print(classification_report(Y_test, y_pred))\n",
    "\n",
    "fpr, tpr, thresholds  = roc_curve(Y_test, y_pred_prob)\n",
    "plt.plot([0,1], [0,1], 'k--')\n",
    "plt.plot(fpr, tpr, label='XGBoost')\n",
    "plt.xlabel('False Positive Rate')\n",
    "plt.ylabel('True Positive Rate')\n",
    "plt.title('%s ROC Curve' % 'XGBoost')\n",
    "plt.show()\n",
    "\n",
    "    "
   ]
  },
  {
   "cell_type": "code",
   "execution_count": 20,
   "metadata": {},
   "outputs": [],
   "source": [
    "# Creating a function to cover this entire flow¶\n",
    "def predict_game_outcome(config, model):\n",
    "    \n",
    "    if type(config) == dict:\n",
    "        df = pd.DataFrame(config)\n",
    "    else:\n",
    "        df = config\n",
    "    df = config.drop(columns = ['win_flag_team1'])\n",
    "    y_pred = model.predict(df)\n",
    "    y_pred_prob = model.predict_proba(df)\n",
    "    prob = float(y_pred_prob[:,1])\n",
    "    return \"Team 1 has a {}% chance of winning\".format(round(prob*100,2))"
   ]
  },
  {
   "cell_type": "code",
   "execution_count": 16,
   "metadata": {},
   "outputs": [],
   "source": [
    "# Predict on random sample\n",
    "random_test = all_season_results_df_final[2:3]\n"
   ]
  },
  {
   "cell_type": "code",
   "execution_count": 17,
   "metadata": {},
   "outputs": [],
   "source": [
    "import pickle\n",
    "\n",
    "##saving the model\n",
    "with open(\"model.bin\", 'wb') as f_out:\n",
    "    pickle.dump(final_model, f_out)\n",
    "    f_out.close()"
   ]
  },
  {
   "cell_type": "code",
   "execution_count": 18,
   "metadata": {},
   "outputs": [],
   "source": [
    "##loading the model from the saved file\n",
    "with open('model.bin', 'rb') as f_in:\n",
    "    model = pickle.load(f_in)\n",
    "\n"
   ]
  },
  {
   "cell_type": "code",
   "execution_count": 21,
   "metadata": {},
   "outputs": [
    {
     "data": {
      "text/plain": [
       "'Team 1 has a 72.99% chance of winning'"
      ]
     },
     "execution_count": 21,
     "metadata": {},
     "output_type": "execute_result"
    }
   ],
   "source": [
    "predict_game_outcome(random_test, model)"
   ]
  },
  {
   "cell_type": "code",
   "execution_count": null,
   "metadata": {},
   "outputs": [],
   "source": []
  }
 ],
 "metadata": {
  "kernelspec": {
   "display_name": "Python 3",
   "language": "python",
   "name": "python3"
  },
  "language_info": {
   "codemirror_mode": {
    "name": "ipython",
    "version": 3
   },
   "file_extension": ".py",
   "mimetype": "text/x-python",
   "name": "python",
   "nbconvert_exporter": "python",
   "pygments_lexer": "ipython3",
   "version": "3.7.6"
  }
 },
 "nbformat": 4,
 "nbformat_minor": 4
}
